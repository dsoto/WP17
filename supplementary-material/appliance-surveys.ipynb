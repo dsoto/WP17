{
 "cells": [
  {
   "cell_type": "code",
   "execution_count": 2,
   "metadata": {
    "collapsed": true
   },
   "outputs": [],
   "source": [
    "%matplotlib inline\n",
    "import matplotlib.pyplot as plt\n",
    "import seaborn as sns\n",
    "import pandas as pd\n",
    "import numpy as np\n",
    "import pysentani as sti"
   ]
  },
  {
   "cell_type": "markdown",
   "metadata": {},
   "source": [
    "# Todo\n",
    "\n",
    "- show numbers and percentages of survey responses\n",
    "- show likely percentages of appliance ownership by village and access type\n",
    "- why didn't surveys respond on appliances?\n",
    "- what percentage of households were surveyed (use Josh data)\n",
    "- what percentage of surveys contain appliance data\n",
    "- make a column using any or all that shows whether or not appliance data was taken"
   ]
  },
  {
   "cell_type": "markdown",
   "metadata": {},
   "source": [
    "# Data\n",
    "\n",
    "Data is kept in an excel spreadsheet that is downloaded from the Ona platform and then cleaned to correct entries."
   ]
  },
  {
   "cell_type": "code",
   "execution_count": 3,
   "metadata": {
    "collapsed": false
   },
   "outputs": [
    {
     "name": "stdout",
     "output_type": "stream",
     "text": [
      "MD5 (../data-survey/sentani-merged-cleaned-anonymous-2014-11-29.xlsx) = fbe0545262decd839172b2d96c8384ed\r\n"
     ]
    }
   ],
   "source": [
    "survey = pd.read_excel('../data-survey/sentani-merged-cleaned-anonymous-2014-11-29.xlsx')\n",
    "!md5 ../data-survey/sentani-merged-cleaned-anonymous-2014-11-29.xlsx"
   ]
  },
  {
   "cell_type": "markdown",
   "metadata": {},
   "source": [
    "We assign an access type to each household based on our local knowledge."
   ]
  },
  {
   "cell_type": "code",
   "execution_count": 4,
   "metadata": {
    "collapsed": true
   },
   "outputs": [],
   "source": [
    "# pysentani access type function\n",
    "survey['access_type'] = sti.access_type(survey)"
   ]
  },
  {
   "cell_type": "markdown",
   "metadata": {},
   "source": [
    "Some households did not answer any questions on appliance ownership.\n",
    "\n",
    "I should be able to use `any` and `all` to make these counts over the columns."
   ]
  },
  {
   "cell_type": "code",
   "execution_count": 5,
   "metadata": {
    "collapsed": false
   },
   "outputs": [
    {
     "data": {
      "text/html": [
       "<div>\n",
       "<table border=\"1\" class=\"dataframe\">\n",
       "  <thead>\n",
       "    <tr style=\"text-align: right;\">\n",
       "      <th></th>\n",
       "      <th>app_now/TV</th>\n",
       "      <th>app_now/rice_cooker</th>\n",
       "      <th>app_now/fridge</th>\n",
       "      <th>app_now/lighting</th>\n",
       "    </tr>\n",
       "  </thead>\n",
       "  <tbody>\n",
       "    <tr>\n",
       "      <th>0</th>\n",
       "      <td>1</td>\n",
       "      <td>0</td>\n",
       "      <td>0</td>\n",
       "      <td>0</td>\n",
       "    </tr>\n",
       "    <tr>\n",
       "      <th>1</th>\n",
       "      <td>1</td>\n",
       "      <td>0</td>\n",
       "      <td>0</td>\n",
       "      <td>1</td>\n",
       "    </tr>\n",
       "    <tr>\n",
       "      <th>2</th>\n",
       "      <td>1</td>\n",
       "      <td>0</td>\n",
       "      <td>0</td>\n",
       "      <td>0</td>\n",
       "    </tr>\n",
       "    <tr>\n",
       "      <th>3</th>\n",
       "      <td>1</td>\n",
       "      <td>0</td>\n",
       "      <td>0</td>\n",
       "      <td>1</td>\n",
       "    </tr>\n",
       "    <tr>\n",
       "      <th>4</th>\n",
       "      <td>0</td>\n",
       "      <td>0</td>\n",
       "      <td>0</td>\n",
       "      <td>1</td>\n",
       "    </tr>\n",
       "    <tr>\n",
       "      <th>5</th>\n",
       "      <td>1</td>\n",
       "      <td>0</td>\n",
       "      <td>0</td>\n",
       "      <td>1</td>\n",
       "    </tr>\n",
       "    <tr>\n",
       "      <th>6</th>\n",
       "      <td>1</td>\n",
       "      <td>0</td>\n",
       "      <td>0</td>\n",
       "      <td>1</td>\n",
       "    </tr>\n",
       "    <tr>\n",
       "      <th>7</th>\n",
       "      <td>NaN</td>\n",
       "      <td>NaN</td>\n",
       "      <td>NaN</td>\n",
       "      <td>NaN</td>\n",
       "    </tr>\n",
       "    <tr>\n",
       "      <th>8</th>\n",
       "      <td>0</td>\n",
       "      <td>0</td>\n",
       "      <td>0</td>\n",
       "      <td>1</td>\n",
       "    </tr>\n",
       "    <tr>\n",
       "      <th>9</th>\n",
       "      <td>1</td>\n",
       "      <td>0</td>\n",
       "      <td>0</td>\n",
       "      <td>0</td>\n",
       "    </tr>\n",
       "  </tbody>\n",
       "</table>\n",
       "</div>"
      ],
      "text/plain": [
       "   app_now/TV  app_now/rice_cooker  app_now/fridge  app_now/lighting\n",
       "0           1                    0               0                 0\n",
       "1           1                    0               0                 1\n",
       "2           1                    0               0                 0\n",
       "3           1                    0               0                 1\n",
       "4           0                    0               0                 1\n",
       "5           1                    0               0                 1\n",
       "6           1                    0               0                 1\n",
       "7         NaN                  NaN             NaN               NaN\n",
       "8           0                    0               0                 1\n",
       "9           1                    0               0                 0"
      ]
     },
     "execution_count": 5,
     "metadata": {},
     "output_type": "execute_result"
    }
   ],
   "source": [
    "appliances = ['TV', 'rice_cooker', 'fridge', 'lighting']\n",
    "columns = ['app_now/{}'.format(a) for a in appliances]\n",
    "survey[columns].head(10)"
   ]
  },
  {
   "cell_type": "markdown",
   "metadata": {},
   "source": [
    "# Percentage Responding\n",
    "\n",
    "Here we calculate the percentage of surveyed households reporting appliance data.\n",
    "\n",
    "`value_counts()` gives the total number of surveys by access type while the `groupby` with `count()` only counts valid responses for the survey questions.  Dividing these two results gives the percentage.\n",
    "\n",
    "There are 1184 total survey results and the percentage by access type is given below."
   ]
  },
  {
   "cell_type": "code",
   "execution_count": 6,
   "metadata": {
    "collapsed": false
   },
   "outputs": [
    {
     "name": "stdout",
     "output_type": "stream",
     "text": [
      "PLN_grid               0.522804\n",
      "no_access              0.288007\n",
      "PLN_microgrid          0.143581\n",
      "community_microgrid    0.045608\n",
      "Name: access_type, dtype: float64\n"
     ]
    }
   ],
   "source": [
    "total = survey['access_type'].value_counts()\n",
    "print(total/total.sum())"
   ]
  },
  {
   "cell_type": "code",
   "execution_count": 7,
   "metadata": {
    "collapsed": false
   },
   "outputs": [
    {
     "data": {
      "text/plain": [
       "PLN_grid               0.917609\n",
       "PLN_microgrid          0.929412\n",
       "community_microgrid    0.962963\n",
       "no_access              0.753666\n",
       "dtype: float64"
      ]
     },
     "execution_count": 7,
     "metadata": {},
     "output_type": "execute_result"
    }
   ],
   "source": [
    "# replace column with appliance survey yes/no derived column\n",
    "responding = survey.groupby('access_type')['app_now/TV'].count()\n",
    "responding / total"
   ]
  },
  {
   "cell_type": "markdown",
   "metadata": {},
   "source": [
    "# Percentage ownership\n",
    "\n",
    "By taking the mean of each column of 1 or 0 responses, we get the mean level of ownership for each appliance."
   ]
  },
  {
   "cell_type": "code",
   "execution_count": 8,
   "metadata": {
    "collapsed": false
   },
   "outputs": [
    {
     "data": {
      "text/html": [
       "<div>\n",
       "<table border=\"1\" class=\"dataframe\">\n",
       "  <thead>\n",
       "    <tr style=\"text-align: right;\">\n",
       "      <th>access_type</th>\n",
       "      <th>PLN_grid</th>\n",
       "      <th>PLN_microgrid</th>\n",
       "      <th>community_microgrid</th>\n",
       "      <th>no_access</th>\n",
       "    </tr>\n",
       "  </thead>\n",
       "  <tbody>\n",
       "    <tr>\n",
       "      <th>app_now/TV</th>\n",
       "      <td>0.815141</td>\n",
       "      <td>0.810127</td>\n",
       "      <td>0.923077</td>\n",
       "      <td>0.797665</td>\n",
       "    </tr>\n",
       "    <tr>\n",
       "      <th>app_now/rice_cooker</th>\n",
       "      <td>0.276408</td>\n",
       "      <td>0.012658</td>\n",
       "      <td>0.134615</td>\n",
       "      <td>0.031128</td>\n",
       "    </tr>\n",
       "    <tr>\n",
       "      <th>app_now/fridge</th>\n",
       "      <td>0.329225</td>\n",
       "      <td>0.037975</td>\n",
       "      <td>0.019231</td>\n",
       "      <td>0.015564</td>\n",
       "    </tr>\n",
       "    <tr>\n",
       "      <th>app_now/lighting</th>\n",
       "      <td>0.931338</td>\n",
       "      <td>0.949367</td>\n",
       "      <td>0.865385</td>\n",
       "      <td>0.883268</td>\n",
       "    </tr>\n",
       "    <tr>\n",
       "      <th>app_now/radio</th>\n",
       "      <td>0.301056</td>\n",
       "      <td>0.278481</td>\n",
       "      <td>0.500000</td>\n",
       "      <td>0.431907</td>\n",
       "    </tr>\n",
       "    <tr>\n",
       "      <th>app_now/fan</th>\n",
       "      <td>0.176056</td>\n",
       "      <td>0.025316</td>\n",
       "      <td>0.096154</td>\n",
       "      <td>0.081712</td>\n",
       "    </tr>\n",
       "    <tr>\n",
       "      <th>HP_y_n</th>\n",
       "      <td>0.701639</td>\n",
       "      <td>0.786982</td>\n",
       "      <td>0.849057</td>\n",
       "      <td>0.776786</td>\n",
       "    </tr>\n",
       "  </tbody>\n",
       "</table>\n",
       "</div>"
      ],
      "text/plain": [
       "access_type          PLN_grid  PLN_microgrid  community_microgrid  no_access\n",
       "app_now/TV           0.815141       0.810127             0.923077   0.797665\n",
       "app_now/rice_cooker  0.276408       0.012658             0.134615   0.031128\n",
       "app_now/fridge       0.329225       0.037975             0.019231   0.015564\n",
       "app_now/lighting     0.931338       0.949367             0.865385   0.883268\n",
       "app_now/radio        0.301056       0.278481             0.500000   0.431907\n",
       "app_now/fan          0.176056       0.025316             0.096154   0.081712\n",
       "HP_y_n               0.701639       0.786982             0.849057   0.776786"
      ]
     },
     "execution_count": 8,
     "metadata": {},
     "output_type": "execute_result"
    }
   ],
   "source": [
    "appliances = ['TV', 'rice_cooker', 'fridge', 'lighting', 'radio', 'fan']\n",
    "columns = ['app_now/{}'.format(a) for a in appliances]\n",
    "columns.append('HP_y_n')\n",
    "analyzed = survey.groupby('access_type')[columns].mean()\n",
    "analyzed.transpose()"
   ]
  }
 ],
 "metadata": {
  "kernelspec": {
   "display_name": "Python 3",
   "language": "python",
   "name": "python3"
  },
  "language_info": {
   "codemirror_mode": {
    "name": "ipython",
    "version": 3
   },
   "file_extension": ".py",
   "mimetype": "text/x-python",
   "name": "python",
   "nbconvert_exporter": "python",
   "pygments_lexer": "ipython3",
   "version": "3.4.4"
  }
 },
 "nbformat": 4,
 "nbformat_minor": 0
}
