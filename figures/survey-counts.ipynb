{
 "cells": [
  {
   "cell_type": "markdown",
   "metadata": {},
   "source": [
    "# Survey counts\n",
    "\n",
    "This notebook counts the number of surveys in each electricity access category and compares to the total number of households in each category.\n",
    "\n",
    "- Total Households from AE data\n",
    "\n",
    "## TODO\n",
    "\n",
    "- Make more appropriate labels for tables\n",
    "- Needs general cleaning up for readability\n",
    "- Extend this method to get valid answers for usage and hours"
   ]
  },
  {
   "cell_type": "code",
   "execution_count": 1,
   "metadata": {
    "collapsed": false
   },
   "outputs": [],
   "source": [
    "import pandas as pd\n",
    "import pysentani as sti\n",
    "survey = pd.read_excel('../data-survey/sentani-merged-cleaned-2015-06-10.xlsx')\n",
    "survey['access_type'] = sti.access_type(survey)"
   ]
  },
  {
   "cell_type": "markdown",
   "metadata": {},
   "source": [
    "We consider a household survey valid in these statistics if that household answered the questions about appliance ownership that we are analyzing.\n",
    "\n",
    "Specifically, TV, radio, refrigerator, fan, rice cookers, and electric lighting.\n",
    "\n",
    "Valid Survey: answered questions on appliance ownership.\n",
    "\n",
    "AE count: number of total households according to Advancing Energy.\n",
    "\n",
    "Valid fraction: valid surveys as a percentage of total households in AE count.\n",
    "\n",
    "- $N_{h}$ is the total number of households present in the area of interest\n",
    "- $N_{vos}$ is the number of surveys with valid appliance ownership responses\n",
    "- $N_{vts}$ is the number of surveys with valid appliance time usage responses\n",
    "\n",
    "We find $N_{vos}$ by \n",
    "\n",
    "- creating a subset of the survey with our appliance ownership questions\n",
    "- looking for how many of these surveys have incomplete appliance ownership questions\n",
    "- verifying that surveys either answer all appliance ownership questions or no appliance ownership questions\n",
    "- are there patterns to the non-responses that would influence the generalizability of the results?\n",
    "\n",
    "Notes:\n",
    "\n",
    "- There are examples where app_now and app_buy are not both answered.\n",
    "- The mobile phone question (`HP_y_n`) was in a separate survey block and has different response patterns.\n"
   ]
  },
  {
   "cell_type": "markdown",
   "metadata": {},
   "source": [
    "Below we verify that respondents answered either all or none of the appliance ownership questions."
   ]
  },
  {
   "cell_type": "code",
   "execution_count": 2,
   "metadata": {
    "collapsed": false
   },
   "outputs": [
    {
     "name": "stdout",
     "output_type": "stream",
     "text": [
      "any and all nulls equal? True\n"
     ]
    },
    {
     "data": {
      "text/plain": [
       "False    1035\n",
       "True      149\n",
       "dtype: int64"
      ]
     },
     "execution_count": 2,
     "metadata": {},
     "output_type": "execute_result"
    }
   ],
   "source": [
    "columns = ['app_now/TV', \n",
    "           'app_now/radio', \n",
    "           'app_now/fridge', \n",
    "           'app_now/fan',\n",
    "           'app_now/rice_cooker',\n",
    "           'app_now/lighting']\n",
    "\n",
    "anynulls = survey[columns].isnull().any(axis=1)\n",
    "allnulls = survey[columns].isnull().all(axis=1)\n",
    "\n",
    "# if any and all are the same series, then there are no surveys with some nulls\n",
    "print('any and all nulls equal?', anynulls.equals(allnulls))\n",
    "\n",
    "anynulls.value_counts()"
   ]
  },
  {
   "cell_type": "code",
   "execution_count": 3,
   "metadata": {
    "collapsed": false
   },
   "outputs": [],
   "source": [
    "# i want to use notnull and all and a group by to get the valid survey counts\n",
    "survey['valid'] = survey[columns].notnull().all(axis=1)\n",
    "#subsurvey.groupby('access_type').count()"
   ]
  },
  {
   "cell_type": "code",
   "execution_count": 4,
   "metadata": {
    "collapsed": false
   },
   "outputs": [
    {
     "data": {
      "text/plain": [
       "access_type\n",
       "PLN_grid               568.0\n",
       "PLN_microgrid          158.0\n",
       "community_microgrid     52.0\n",
       "no_access              257.0\n",
       "Name: valid, dtype: float64"
      ]
     },
     "execution_count": 4,
     "metadata": {},
     "output_type": "execute_result"
    }
   ],
   "source": [
    "survey.groupby('access_type').sum()['valid']"
   ]
  },
  {
   "cell_type": "code",
   "execution_count": 5,
   "metadata": {
    "collapsed": false
   },
   "outputs": [
    {
     "data": {
      "text/plain": [
       "1035.0"
      ]
     },
     "execution_count": 5,
     "metadata": {},
     "output_type": "execute_result"
    }
   ],
   "source": [
    "survey.groupby('access_type').sum()['valid'].sum()"
   ]
  },
  {
   "cell_type": "markdown",
   "metadata": {},
   "source": [
    "Below we create a table with the total data on households and valid household surveys."
   ]
  },
  {
   "cell_type": "code",
   "execution_count": 6,
   "metadata": {
    "collapsed": false
   },
   "outputs": [],
   "source": [
    "# count gives total surveys and sum gives the surveys with valid appliance responses\n",
    "appliance_data = survey[['access_type', 'valid']].groupby('access_type').agg(['count', 'sum'])"
   ]
  },
  {
   "cell_type": "code",
   "execution_count": 7,
   "metadata": {
    "collapsed": false
   },
   "outputs": [
    {
     "data": {
      "text/html": [
       "<div>\n",
       "<table border=\"1\" class=\"dataframe\">\n",
       "  <thead>\n",
       "    <tr>\n",
       "      <th></th>\n",
       "      <th>total_households</th>\n",
       "      <th>total_surveys</th>\n",
       "      <th>valid_surveys</th>\n",
       "      <th>percent_surveyed</th>\n",
       "      <th>valid_fraction_HH</th>\n",
       "    </tr>\n",
       "    <tr>\n",
       "      <th></th>\n",
       "      <th></th>\n",
       "      <th></th>\n",
       "      <th></th>\n",
       "      <th></th>\n",
       "      <th></th>\n",
       "    </tr>\n",
       "    <tr>\n",
       "      <th>access_type</th>\n",
       "      <th></th>\n",
       "      <th></th>\n",
       "      <th></th>\n",
       "      <th></th>\n",
       "      <th></th>\n",
       "    </tr>\n",
       "  </thead>\n",
       "  <tbody>\n",
       "    <tr>\n",
       "      <th>PLN_grid</th>\n",
       "      <td>660</td>\n",
       "      <td>619</td>\n",
       "      <td>568</td>\n",
       "      <td>0.937879</td>\n",
       "      <td>0.860606</td>\n",
       "    </tr>\n",
       "    <tr>\n",
       "      <th>PLN_microgrid</th>\n",
       "      <td>170</td>\n",
       "      <td>170</td>\n",
       "      <td>158</td>\n",
       "      <td>1.000000</td>\n",
       "      <td>0.929412</td>\n",
       "    </tr>\n",
       "    <tr>\n",
       "      <th>community_microgrid</th>\n",
       "      <td>60</td>\n",
       "      <td>54</td>\n",
       "      <td>52</td>\n",
       "      <td>0.900000</td>\n",
       "      <td>0.866667</td>\n",
       "    </tr>\n",
       "    <tr>\n",
       "      <th>no_access</th>\n",
       "      <td>398</td>\n",
       "      <td>341</td>\n",
       "      <td>257</td>\n",
       "      <td>0.856784</td>\n",
       "      <td>0.645729</td>\n",
       "    </tr>\n",
       "  </tbody>\n",
       "</table>\n",
       "</div>"
      ],
      "text/plain": [
       "                    total_households total_surveys valid_surveys  \\\n",
       "                                                                   \n",
       "access_type                                                        \n",
       "PLN_grid                         660           619           568   \n",
       "PLN_microgrid                    170           170           158   \n",
       "community_microgrid               60            54            52   \n",
       "no_access                        398           341           257   \n",
       "\n",
       "                    percent_surveyed valid_fraction_HH  \n",
       "                                                        \n",
       "access_type                                             \n",
       "PLN_grid                    0.937879          0.860606  \n",
       "PLN_microgrid               1.000000          0.929412  \n",
       "community_microgrid         0.900000          0.866667  \n",
       "no_access                   0.856784          0.645729  "
      ]
     },
     "execution_count": 7,
     "metadata": {},
     "output_type": "execute_result"
    }
   ],
   "source": [
    "# this data is from our counts of households \n",
    "appliance_data['total_households'] = pd.Series({'PLN_grid':660, \n",
    "                                        'PLN_microgrid':170, \n",
    "                                        'community_microgrid':60, \n",
    "                                        'no_access':398})\n",
    "\n",
    "# here we make new columns from the stacked aggregation columns\n",
    "appliance_data['valid_surveys'] = appliance_data['valid']['sum'].astype(int)\n",
    "appliance_data['total_surveys'] = appliance_data['valid']['count']\n",
    "\n",
    "# we calculate the fraction of households\n",
    "appliance_data['valid_fraction_HH'] = appliance_data['valid_surveys'] / appliance_data['total_households']\n",
    "appliance_data['percent_surveyed'] = appliance_data['total_surveys'] / appliance_data['total_households']\n",
    "\n",
    "output_columns = ['total_households', 'total_surveys','valid_surveys', 'percent_surveyed', 'valid_fraction_HH']\n",
    "\n",
    "appliance_data[output_columns]"
   ]
  },
  {
   "cell_type": "code",
   "execution_count": 8,
   "metadata": {
    "collapsed": false
   },
   "outputs": [
    {
     "name": "stdout",
     "output_type": "stream",
     "text": [
      "|                     |   total_households |   total_surveys |   valid_surveys |   percent_surveyed |   valid_fraction_HH |\n",
      "|:--------------------|-------------------:|----------------:|----------------:|-------------------:|--------------------:|\n",
      "| PLN_grid            |                660 |             619 |             568 |           0.937879 |            0.860606 |\n",
      "| PLN_microgrid       |                170 |             170 |             158 |           1        |            0.929412 |\n",
      "| community_microgrid |                 60 |              54 |              52 |           0.9      |            0.866667 |\n",
      "| no_access           |                398 |             341 |             257 |           0.856784 |            0.645729 |\n"
     ]
    }
   ],
   "source": [
    "# TODO: is there a way to directly include this in the manuscript?\n",
    "import tabulate\n",
    "output = appliance_data[output_columns]\n",
    "print(tabulate.tabulate(output, headers=output_columns, tablefmt='pipe'))"
   ]
  },
  {
   "cell_type": "code",
   "execution_count": null,
   "metadata": {
    "collapsed": true
   },
   "outputs": [],
   "source": []
  }
 ],
 "metadata": {
  "kernelspec": {
   "display_name": "Python 3",
   "language": "python",
   "name": "python3"
  },
  "language_info": {
   "codemirror_mode": {
    "name": "ipython",
    "version": 3
   },
   "file_extension": ".py",
   "mimetype": "text/x-python",
   "name": "python",
   "nbconvert_exporter": "python",
   "pygments_lexer": "ipython3",
   "version": "3.4.4"
  }
 },
 "nbformat": 4,
 "nbformat_minor": 0
}
