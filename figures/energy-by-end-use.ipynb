{
 "cells": [
  {
   "cell_type": "markdown",
   "metadata": {},
   "source": [
    "# Electricity estimations\n",
    "\n",
    "This builds from the 2016-02-17-daily-predicted-use notebook.\n",
    "\n",
    "I'd like to understand the contributions to the total energy use from the different end uses.\n",
    "\n",
    "We start by collecting statistics on valid survey responses to appliance questions.\n",
    "We then filter for usage responses that don't make sense (over 7 times a week, more than 24 hours per day).\n",
    "\n",
    "TODO:\n",
    "\n",
    "- report initial quality of data for completeness and implausible values\n",
    "- is it possible to visualize as a huge heat map?\n",
    "- filter outliers or bad hours per week numbers ()\n",
    "- why are all counts 1184, shouldn't there be nulls?\n",
    "- are we averaging in zeros that should be nulls?\n",
    "- why isn't the survey preventing hours and per week responses if you don't have the appliance?\n",
    "- do the energy averages omit the null values?\n",
    "- how many responses own but no usage?\n",
    "- how many responses usage but don't own?  do we have skip logic that prevents this?\n",
    "- table rows are appliances\n",
    "- columns are number owning, number not owning, number not responding, \n",
    "- number answering week, number answering hours, number not responding"
   ]
  },
  {
   "cell_type": "code",
   "execution_count": 1,
   "metadata": {
    "collapsed": false
   },
   "outputs": [],
   "source": [
    "%matplotlib inline\n",
    "import matplotlib.pyplot as plt\n",
    "import seaborn as sns\n",
    "import pandas as pd\n",
    "import pysentani as sti\n",
    "survey = pd.read_excel('../data-survey/sentani-merged-cleaned-2015-06-10.xlsx')\n",
    "survey['access_type'] = sti.access_type(survey)"
   ]
  },
  {
   "cell_type": "markdown",
   "metadata": {},
   "source": [
    "There are only 12 surveys that answer all questions about appliance usage.\n",
    "\n",
    "What about on a per appliance basis?"
   ]
  },
  {
   "cell_type": "code",
   "execution_count": 2,
   "metadata": {
    "collapsed": false
   },
   "outputs": [
    {
     "name": "stdout",
     "output_type": "stream",
     "text": [
      "any and all nulls equal? False\n",
      "True     1172\n",
      "False      12\n",
      "dtype: int64\n",
      "False    1035\n",
      "True      149\n",
      "dtype: int64\n",
      "False    1172\n",
      "True       12\n",
      "dtype: int64\n"
     ]
    }
   ],
   "source": [
    "columns = []\n",
    "for app in ['TV', 'radio', 'fridge', 'fan', 'rice_cooker', 'lighting']:\n",
    "    # generate column labels for each appliance\n",
    "    columns.append('app_now/{}'.format(app))\n",
    "    columns.append('app_{}_per_wk'.format(app))\n",
    "    columns.append('app_{}_hrs'.format(app))\n",
    "\n",
    "# TODO: drill down into where the nulls are and are they correlated with appliance ownership or not?\n",
    "# how many report owning the appliance but don't report usage?\n",
    "# haven't we looked at this before?  matt rosi's work?\n",
    "\n",
    "anynulls = survey[columns].isnull().any(axis=1)\n",
    "allnulls = survey[columns].isnull().all(axis=1)\n",
    "nonulls = survey[columns].notnull().all(axis=1)\n",
    "\n",
    "# if any and all are the same series, then there are no surveys with some nulls\n",
    "print('any and all nulls equal?', anynulls.equals(allnulls))\n",
    "\n",
    "print(anynulls.value_counts())\n",
    "print(allnulls.value_counts())\n",
    "print(nonulls.value_counts())"
   ]
  },
  {
   "cell_type": "markdown",
   "metadata": {},
   "source": [
    "Below we determine how many households have compliant responses for appliance usage (hours per day and days per week) for each appliance.\n",
    "We count the households who have non-null responses for each appliance type and join this with the counts of ownership in a table.\n"
   ]
  },
  {
   "cell_type": "code",
   "execution_count": 3,
   "metadata": {
    "collapsed": false
   },
   "outputs": [
    {
     "name": "stdout",
     "output_type": "stream",
     "text": [
      "TV\n",
      "radio\n",
      "fridge\n",
      "fan\n",
      "rice_cooker\n",
      "lighting\n"
     ]
    }
   ],
   "source": [
    "own_dict = {}\n",
    "use_dict = {}\n",
    "\n",
    "for app in ['TV', 'radio', 'fridge', 'fan', 'rice_cooker', 'lighting']:\n",
    "    columns = []\n",
    "    # generate column labels for each appliance\n",
    "    own = 'app_now/{}'.format(app)\n",
    "    use = ['app_{}_per_wk'.format(app), 'app_{}_hrs'.format(app)]\n",
    "    \n",
    "    print(app)\n",
    "    #print(nonulls.value_counts())\n",
    "    \n",
    "    #print(survey[own].value_counts(dropna=False))\n",
    "    own_dict[app] = survey[own].value_counts(dropna=False)\n",
    "    \n",
    "    # true values means households owning appliances reported usage numbers\n",
    "    # print(survey[survey[own]==1][use].notnull().all(axis=1).value_counts())\n",
    "    use_dict[app] = survey[survey[own]==1][use].notnull().all(axis=1).value_counts()"
   ]
  },
  {
   "cell_type": "code",
   "execution_count": 4,
   "metadata": {
    "collapsed": false
   },
   "outputs": [
    {
     "data": {
      "text/html": [
       "<div>\n",
       "<table border=\"1\" class=\"dataframe\">\n",
       "  <thead>\n",
       "    <tr style=\"text-align: right;\">\n",
       "      <th></th>\n",
       "      <th>0.0</th>\n",
       "      <th>1.0</th>\n",
       "      <th>nan</th>\n",
       "    </tr>\n",
       "  </thead>\n",
       "  <tbody>\n",
       "    <tr>\n",
       "      <th>TV</th>\n",
       "      <td>191</td>\n",
       "      <td>844</td>\n",
       "      <td>149</td>\n",
       "    </tr>\n",
       "    <tr>\n",
       "      <th>fan</th>\n",
       "      <td>905</td>\n",
       "      <td>130</td>\n",
       "      <td>149</td>\n",
       "    </tr>\n",
       "    <tr>\n",
       "      <th>fridge</th>\n",
       "      <td>837</td>\n",
       "      <td>198</td>\n",
       "      <td>149</td>\n",
       "    </tr>\n",
       "    <tr>\n",
       "      <th>lighting</th>\n",
       "      <td>84</td>\n",
       "      <td>951</td>\n",
       "      <td>149</td>\n",
       "    </tr>\n",
       "    <tr>\n",
       "      <th>radio</th>\n",
       "      <td>683</td>\n",
       "      <td>352</td>\n",
       "      <td>149</td>\n",
       "    </tr>\n",
       "    <tr>\n",
       "      <th>rice_cooker</th>\n",
       "      <td>861</td>\n",
       "      <td>174</td>\n",
       "      <td>149</td>\n",
       "    </tr>\n",
       "  </tbody>\n",
       "</table>\n",
       "</div>"
      ],
      "text/plain": [
       "              0.0   1.0  NaN \n",
       "TV            191   844   149\n",
       "fan           905   130   149\n",
       "fridge        837   198   149\n",
       "lighting       84   951   149\n",
       "radio         683   352   149\n",
       "rice_cooker   861   174   149"
      ]
     },
     "execution_count": 4,
     "metadata": {},
     "output_type": "execute_result"
    }
   ],
   "source": [
    "own = pd.DataFrame(own_dict).T\n",
    "own"
   ]
  },
  {
   "cell_type": "code",
   "execution_count": 5,
   "metadata": {
    "collapsed": false
   },
   "outputs": [
    {
     "data": {
      "text/html": [
       "<div>\n",
       "<table border=\"1\" class=\"dataframe\">\n",
       "  <thead>\n",
       "    <tr style=\"text-align: right;\">\n",
       "      <th></th>\n",
       "      <th>True</th>\n",
       "      <th>False</th>\n",
       "    </tr>\n",
       "  </thead>\n",
       "  <tbody>\n",
       "    <tr>\n",
       "      <th>TV</th>\n",
       "      <td>810</td>\n",
       "      <td>34</td>\n",
       "    </tr>\n",
       "    <tr>\n",
       "      <th>fan</th>\n",
       "      <td>127</td>\n",
       "      <td>3</td>\n",
       "    </tr>\n",
       "    <tr>\n",
       "      <th>fridge</th>\n",
       "      <td>193</td>\n",
       "      <td>5</td>\n",
       "    </tr>\n",
       "    <tr>\n",
       "      <th>lighting</th>\n",
       "      <td>926</td>\n",
       "      <td>25</td>\n",
       "    </tr>\n",
       "    <tr>\n",
       "      <th>radio</th>\n",
       "      <td>340</td>\n",
       "      <td>12</td>\n",
       "    </tr>\n",
       "    <tr>\n",
       "      <th>rice_cooker</th>\n",
       "      <td>169</td>\n",
       "      <td>5</td>\n",
       "    </tr>\n",
       "  </tbody>\n",
       "</table>\n",
       "</div>"
      ],
      "text/plain": [
       "             True   False\n",
       "TV             810     34\n",
       "fan            127      3\n",
       "fridge         193      5\n",
       "lighting       926     25\n",
       "radio          340     12\n",
       "rice_cooker    169      5"
      ]
     },
     "execution_count": 5,
     "metadata": {},
     "output_type": "execute_result"
    }
   ],
   "source": [
    "use = pd.DataFrame(use_dict).T\n",
    "use"
   ]
  },
  {
   "cell_type": "markdown",
   "metadata": {},
   "source": [
    "We see that the fraction of households owning an appliance that are reporting hours is over 95% for all appliance types.\n",
    "We assume that the population that did not report valid usage is similar to the population reporting."
   ]
  },
  {
   "cell_type": "code",
   "execution_count": 6,
   "metadata": {
    "collapsed": false
   },
   "outputs": [
    {
     "data": {
      "text/html": [
       "<div>\n",
       "<table border=\"1\" class=\"dataframe\">\n",
       "  <thead>\n",
       "    <tr style=\"text-align: right;\">\n",
       "      <th></th>\n",
       "      <th>Owning Households</th>\n",
       "      <th>Owning and Valid Usage</th>\n",
       "    </tr>\n",
       "  </thead>\n",
       "  <tbody>\n",
       "    <tr>\n",
       "      <th>TV</th>\n",
       "      <td>844</td>\n",
       "      <td>810</td>\n",
       "    </tr>\n",
       "    <tr>\n",
       "      <th>fan</th>\n",
       "      <td>130</td>\n",
       "      <td>127</td>\n",
       "    </tr>\n",
       "    <tr>\n",
       "      <th>fridge</th>\n",
       "      <td>198</td>\n",
       "      <td>193</td>\n",
       "    </tr>\n",
       "    <tr>\n",
       "      <th>lighting</th>\n",
       "      <td>951</td>\n",
       "      <td>926</td>\n",
       "    </tr>\n",
       "    <tr>\n",
       "      <th>radio</th>\n",
       "      <td>352</td>\n",
       "      <td>340</td>\n",
       "    </tr>\n",
       "    <tr>\n",
       "      <th>rice_cooker</th>\n",
       "      <td>174</td>\n",
       "      <td>169</td>\n",
       "    </tr>\n",
       "  </tbody>\n",
       "</table>\n",
       "</div>"
      ],
      "text/plain": [
       "             Owning Households  Owning and Valid Usage\n",
       "TV                         844                     810\n",
       "fan                        130                     127\n",
       "fridge                     198                     193\n",
       "lighting                   951                     926\n",
       "radio                      352                     340\n",
       "rice_cooker                174                     169"
      ]
     },
     "execution_count": 6,
     "metadata": {},
     "output_type": "execute_result"
    }
   ],
   "source": [
    "# merge two data frames and give meaningful column names\n",
    "usage_responses = pd.merge(own, use, right_index=True, left_index=True)\n",
    "usage_responses['reporting_fraction'] = usage_responses['True_y']/usage_responses['1.0_x']\n",
    "usage_responses = usage_responses.rename(columns={'1.0_x':'Owning Households',\n",
    "                                                  'True_y':'Owning and Valid Usage'})\n",
    "usage_responses[['Owning Households', 'Owning and Valid Usage']]"
   ]
  },
  {
   "cell_type": "markdown",
   "metadata": {},
   "source": [
    "# Filtering outlier usage responses\n",
    "\n",
    "There are some responses currently in the survey that report use above 24 hours per day or more than 7 days per week.  For now if these exceed the maximum, I'm replacing with the maximum.  We may want to clean the data set and repost a new version.\n",
    "\n",
    "When we filter the data, we have to account for the presence of null values."
   ]
  },
  {
   "cell_type": "code",
   "execution_count": 7,
   "metadata": {
    "collapsed": false
   },
   "outputs": [],
   "source": [
    "for app in ['TV', 'radio', 'fridge', 'fan', 'rice_cooker', 'lighting']:\n",
    "    # generate column labels for each appliance\n",
    "    wk_col = 'app_{}_per_wk'.format(app)\n",
    "    hr_col = 'app_{}_hrs'.format(app)\n",
    "    # if null or within range use value, otherwise use max possible value\n",
    "    survey[hr_col] = survey[hr_col].where(survey[hr_col].isnull() | (survey[hr_col] <= 24), 24)\n",
    "    survey[wk_col] = survey[wk_col].where(survey[wk_col].isnull() | (survey[wk_col] <= 7), 7)\n",
    "\n",
    "    # ensure non-null values are within bounds\n",
    "    assert(all(survey[wk_col].dropna() <= 7))\n",
    "    assert(all(survey[wk_col].dropna() >= 0))\n",
    "    assert(all(survey[hr_col].dropna() <= 24))\n",
    "    assert(all(survey[hr_col].dropna() >= 0))"
   ]
  },
  {
   "cell_type": "markdown",
   "metadata": {},
   "source": [
    "We use these hourly ranges to estimate the electricity use for each appliance type.\n",
    "\n",
    "$$ \\textrm{daily energy (kWh)} = \\left(\\frac{use\\ times\\ per\\ week * hours\\ per\\ use}{7}\\right)power(kW)$$\n",
    "\n",
    "The power assumptions are below."
   ]
  },
  {
   "cell_type": "code",
   "execution_count": 8,
   "metadata": {
    "collapsed": false
   },
   "outputs": [
    {
     "data": {
      "text/html": [
       "<div>\n",
       "<table border=\"1\" class=\"dataframe\">\n",
       "  <thead>\n",
       "    <tr style=\"text-align: right;\">\n",
       "      <th></th>\n",
       "      <th>power (kW)</th>\n",
       "    </tr>\n",
       "  </thead>\n",
       "  <tbody>\n",
       "    <tr>\n",
       "      <th>TV</th>\n",
       "      <td>0.04</td>\n",
       "    </tr>\n",
       "    <tr>\n",
       "      <th>fan</th>\n",
       "      <td>0.05</td>\n",
       "    </tr>\n",
       "    <tr>\n",
       "      <th>fridge</th>\n",
       "      <td>0.10</td>\n",
       "    </tr>\n",
       "    <tr>\n",
       "      <th>lighting</th>\n",
       "      <td>0.05</td>\n",
       "    </tr>\n",
       "    <tr>\n",
       "      <th>radio</th>\n",
       "      <td>0.01</td>\n",
       "    </tr>\n",
       "    <tr>\n",
       "      <th>rice_cooker</th>\n",
       "      <td>0.35</td>\n",
       "    </tr>\n",
       "  </tbody>\n",
       "</table>\n",
       "</div>"
      ],
      "text/plain": [
       "             power (kW)\n",
       "TV                 0.04\n",
       "fan                0.05\n",
       "fridge             0.10\n",
       "lighting           0.05\n",
       "radio              0.01\n",
       "rice_cooker        0.35"
      ]
     },
     "execution_count": 8,
     "metadata": {},
     "output_type": "execute_result"
    }
   ],
   "source": [
    "powers = {'TV':0.040, \n",
    "          'fridge':0.100, \n",
    "          'radio':0.010, \n",
    "          'fan':0.050, \n",
    "          'rice_cooker':0.350, \n",
    "          'lighting':0.050}\n",
    "pd.DataFrame({'power (kW)':powers})"
   ]
  },
  {
   "cell_type": "code",
   "execution_count": 9,
   "metadata": {
    "collapsed": false
   },
   "outputs": [],
   "source": [
    "appliance_list = ['TV', 'fridge', 'radio', 'fan', 'rice_cooker', 'lighting']\n",
    "\n",
    "for appliance in appliance_list:\n",
    "    # create column label from appliance names\n",
    "    wk_col = 'app_{}_per_wk'.format(appliance)\n",
    "    hr_col = 'app_{}_hrs'.format(appliance)\n",
    "    energy_col = 'daily_{}_energy'.format(appliance)\n",
    "    weekly_hr_col = 'weekly_{}_hrs'.format(appliance)\n",
    "    survey[weekly_hr_col] = survey[wk_col] * survey[hr_col]    \n",
    "    survey[energy_col] = survey[weekly_hr_col] / 7 * powers[appliance]"
   ]
  },
  {
   "cell_type": "markdown",
   "metadata": {},
   "source": [
    "At this point, we have a data frame containing the energy use of each household.  If we sum these we should get the overall village use of that appliance energy type.\n",
    "\n",
    "Since the averages do not include nulls and we assume our survey sample is reflective of the overall population, these will be an estimate of the per capita use for households owning that appliance.\n",
    "\n",
    "To get the overall per capita averages, I fill nulls with zeros and then group by access type."
   ]
  },
  {
   "cell_type": "code",
   "execution_count": 10,
   "metadata": {
    "collapsed": false
   },
   "outputs": [
    {
     "data": {
      "text/html": [
       "<div>\n",
       "<table border=\"1\" class=\"dataframe\">\n",
       "  <thead>\n",
       "    <tr style=\"text-align: right;\">\n",
       "      <th></th>\n",
       "      <th>access_type</th>\n",
       "      <th>daily_TV_energy</th>\n",
       "      <th>daily_fridge_energy</th>\n",
       "      <th>daily_radio_energy</th>\n",
       "      <th>daily_fan_energy</th>\n",
       "      <th>daily_rice_cooker_energy</th>\n",
       "      <th>daily_lighting_energy</th>\n",
       "    </tr>\n",
       "  </thead>\n",
       "  <tbody>\n",
       "    <tr>\n",
       "      <th>0</th>\n",
       "      <td>no_access</td>\n",
       "      <td>0.160000</td>\n",
       "      <td>NaN</td>\n",
       "      <td>0.020000</td>\n",
       "      <td>NaN</td>\n",
       "      <td>NaN</td>\n",
       "      <td>NaN</td>\n",
       "    </tr>\n",
       "    <tr>\n",
       "      <th>1</th>\n",
       "      <td>no_access</td>\n",
       "      <td>0.080000</td>\n",
       "      <td>NaN</td>\n",
       "      <td>0.008571</td>\n",
       "      <td>NaN</td>\n",
       "      <td>NaN</td>\n",
       "      <td>0.042857</td>\n",
       "    </tr>\n",
       "    <tr>\n",
       "      <th>2</th>\n",
       "      <td>no_access</td>\n",
       "      <td>0.120000</td>\n",
       "      <td>NaN</td>\n",
       "      <td>NaN</td>\n",
       "      <td>NaN</td>\n",
       "      <td>NaN</td>\n",
       "      <td>NaN</td>\n",
       "    </tr>\n",
       "    <tr>\n",
       "      <th>3</th>\n",
       "      <td>no_access</td>\n",
       "      <td>0.022857</td>\n",
       "      <td>NaN</td>\n",
       "      <td>NaN</td>\n",
       "      <td>NaN</td>\n",
       "      <td>NaN</td>\n",
       "      <td>0.114286</td>\n",
       "    </tr>\n",
       "    <tr>\n",
       "      <th>4</th>\n",
       "      <td>no_access</td>\n",
       "      <td>NaN</td>\n",
       "      <td>NaN</td>\n",
       "      <td>NaN</td>\n",
       "      <td>NaN</td>\n",
       "      <td>NaN</td>\n",
       "      <td>0.300000</td>\n",
       "    </tr>\n",
       "  </tbody>\n",
       "</table>\n",
       "</div>"
      ],
      "text/plain": [
       "  access_type  daily_TV_energy  daily_fridge_energy  daily_radio_energy  \\\n",
       "0   no_access         0.160000                  NaN            0.020000   \n",
       "1   no_access         0.080000                  NaN            0.008571   \n",
       "2   no_access         0.120000                  NaN                 NaN   \n",
       "3   no_access         0.022857                  NaN                 NaN   \n",
       "4   no_access              NaN                  NaN                 NaN   \n",
       "\n",
       "   daily_fan_energy  daily_rice_cooker_energy  daily_lighting_energy  \n",
       "0               NaN                       NaN                    NaN  \n",
       "1               NaN                       NaN               0.042857  \n",
       "2               NaN                       NaN                    NaN  \n",
       "3               NaN                       NaN               0.114286  \n",
       "4               NaN                       NaN               0.300000  "
      ]
     },
     "execution_count": 10,
     "metadata": {},
     "output_type": "execute_result"
    }
   ],
   "source": [
    "columns = ['access_type', \n",
    "           'daily_TV_energy', \n",
    "           'daily_fridge_energy', \n",
    "           'daily_radio_energy', \n",
    "           'daily_fan_energy', \n",
    "           'daily_rice_cooker_energy', \n",
    "           'daily_lighting_energy']\n",
    "energy_data = survey[columns].copy(deep=True)\n",
    "energy_data.head()"
   ]
  },
  {
   "cell_type": "markdown",
   "metadata": {},
   "source": [
    "We see a large increase in electricity use in grid-connected households.\n",
    "Usage of electricity for rice cookers and refrigerators are both greater than all estimated electricity use for other households.\n",
    "The amount of lighting usage also increases.\n",
    "(Note that this assumes the same number of lightbulbs in off-grid and on-grid households.)"
   ]
  },
  {
   "cell_type": "code",
   "execution_count": 11,
   "metadata": {
    "collapsed": false
   },
   "outputs": [
    {
     "data": {
      "image/png": "[encoded data removed]",
      "text/plain": [
       "<matplotlib.figure.Figure at 0x10e9f3588>"
      ]
     },
     "metadata": {},
     "output_type": "display_data"
    }
   ],
   "source": [
    "# this should be averall per capita consumption by filling nulls with zeros\n",
    "energy_data.fillna(0).groupby('access_type').mean().plot(kind='bar', stacked=True)\n",
    "plt.show()"
   ]
  },
  {
   "cell_type": "code",
   "execution_count": 12,
   "metadata": {
    "collapsed": false
   },
   "outputs": [
    {
     "data": {
      "text/html": [
       "<div>\n",
       "<table border=\"1\" class=\"dataframe\">\n",
       "  <thead>\n",
       "    <tr style=\"text-align: right;\">\n",
       "      <th></th>\n",
       "      <th>daily_TV_energy</th>\n",
       "      <th>daily_fridge_energy</th>\n",
       "      <th>daily_radio_energy</th>\n",
       "      <th>daily_fan_energy</th>\n",
       "      <th>daily_rice_cooker_energy</th>\n",
       "      <th>daily_lighting_energy</th>\n",
       "    </tr>\n",
       "  </thead>\n",
       "  <tbody>\n",
       "    <tr>\n",
       "      <th>PLN_grid</th>\n",
       "      <td>0.249333</td>\n",
       "      <td>0.696700</td>\n",
       "      <td>0.008495</td>\n",
       "      <td>0.053808</td>\n",
       "      <td>1.207835</td>\n",
       "      <td>0.522756</td>\n",
       "    </tr>\n",
       "    <tr>\n",
       "      <th>PLN_microgrid</th>\n",
       "      <td>0.134622</td>\n",
       "      <td>0.020000</td>\n",
       "      <td>0.007790</td>\n",
       "      <td>0.006050</td>\n",
       "      <td>0.016471</td>\n",
       "      <td>0.294412</td>\n",
       "    </tr>\n",
       "    <tr>\n",
       "      <th>community_microgrid</th>\n",
       "      <td>0.148995</td>\n",
       "      <td>0.000000</td>\n",
       "      <td>0.013915</td>\n",
       "      <td>0.008598</td>\n",
       "      <td>0.100000</td>\n",
       "      <td>0.205291</td>\n",
       "    </tr>\n",
       "    <tr>\n",
       "      <th>no_access</th>\n",
       "      <td>0.083167</td>\n",
       "      <td>0.003812</td>\n",
       "      <td>0.013377</td>\n",
       "      <td>0.009992</td>\n",
       "      <td>0.020821</td>\n",
       "      <td>0.137055</td>\n",
       "    </tr>\n",
       "  </tbody>\n",
       "</table>\n",
       "</div>"
      ],
      "text/plain": [
       "                     daily_TV_energy  daily_fridge_energy  daily_radio_energy  \\\n",
       "PLN_grid                    0.249333             0.696700            0.008495   \n",
       "PLN_microgrid               0.134622             0.020000            0.007790   \n",
       "community_microgrid         0.148995             0.000000            0.013915   \n",
       "no_access                   0.083167             0.003812            0.013377   \n",
       "\n",
       "                     daily_fan_energy  daily_rice_cooker_energy  \\\n",
       "PLN_grid                     0.053808                  1.207835   \n",
       "PLN_microgrid                0.006050                  0.016471   \n",
       "community_microgrid          0.008598                  0.100000   \n",
       "no_access                    0.009992                  0.020821   \n",
       "\n",
       "                     daily_lighting_energy  \n",
       "PLN_grid                          0.522756  \n",
       "PLN_microgrid                     0.294412  \n",
       "community_microgrid               0.205291  \n",
       "no_access                         0.137055  "
      ]
     },
     "execution_count": 12,
     "metadata": {},
     "output_type": "execute_result"
    }
   ],
   "source": [
    "per_capita_energy_data = energy_data.fillna(0).groupby('access_type').mean()\n",
    "per_capita_energy_data.index.name = None\n",
    "per_capita_energy_data"
   ]
  },
  {
   "cell_type": "code",
   "execution_count": 13,
   "metadata": {
    "collapsed": false
   },
   "outputs": [
    {
     "data": {
      "text/plain": [
       "daily_TV_energy             0.616117\n",
       "daily_fridge_energy         0.720512\n",
       "daily_radio_energy          0.043577\n",
       "daily_fan_energy            0.078448\n",
       "daily_rice_cooker_energy    1.345127\n",
       "daily_lighting_energy       1.159513\n",
       "dtype: float64"
      ]
     },
     "execution_count": 13,
     "metadata": {},
     "output_type": "execute_result"
    }
   ],
   "source": [
    "#per_capita_energy_data.pop('')\n",
    "#per_capita_energy_data / per_capita_energy_data.sum(axis=1)\n",
    "per_capita_energy_data.sum()"
   ]
  },
  {
   "cell_type": "markdown",
   "metadata": {},
   "source": [
    "We see that as a fraction of total electricity use, lighting diminishes from around 50 percent for microgrid and no grid access to about 20 percent for grid-connected households."
   ]
  },
  {
   "cell_type": "code",
   "execution_count": 14,
   "metadata": {
    "collapsed": false
   },
   "outputs": [
    {
     "data": {
      "image/png": "[encoded data removed]",
      "text/plain": [
       "<matplotlib.figure.Figure at 0x10fd429b0>"
      ]
     },
     "metadata": {},
     "output_type": "display_data"
    }
   ],
   "source": [
    "# can I do this normalization by row instead of transposing to do it by column?\n",
    "#percentages = (per_capita_energy_data.T / per_capita_energy_data.T.sum()).T\n",
    "percentages = per_capita_energy_data.div(per_capita_energy_data.sum(axis=1), axis=0)\n",
    "percentages.plot(kind='bar', stacked=True)\n",
    "plt.show()"
   ]
  },
  {
   "cell_type": "code",
   "execution_count": 15,
   "metadata": {
    "collapsed": false
   },
   "outputs": [
    {
     "data": {
      "text/html": [
       "<div>\n",
       "<table border=\"1\" class=\"dataframe\">\n",
       "  <thead>\n",
       "    <tr style=\"text-align: right;\">\n",
       "      <th></th>\n",
       "      <th>daily_TV_energy</th>\n",
       "      <th>daily_fridge_energy</th>\n",
       "      <th>daily_radio_energy</th>\n",
       "      <th>daily_fan_energy</th>\n",
       "      <th>daily_rice_cooker_energy</th>\n",
       "      <th>daily_lighting_energy</th>\n",
       "      <th>access_type</th>\n",
       "    </tr>\n",
       "    <tr>\n",
       "      <th>access_type</th>\n",
       "      <th></th>\n",
       "      <th></th>\n",
       "      <th></th>\n",
       "      <th></th>\n",
       "      <th></th>\n",
       "      <th></th>\n",
       "      <th></th>\n",
       "    </tr>\n",
       "  </thead>\n",
       "  <tbody>\n",
       "    <tr>\n",
       "      <th>PLN_grid</th>\n",
       "      <td>0.249333</td>\n",
       "      <td>0.696700</td>\n",
       "      <td>0.008495</td>\n",
       "      <td>0.053808</td>\n",
       "      <td>1.207835</td>\n",
       "      <td>0.522756</td>\n",
       "      <td>PLN_grid</td>\n",
       "    </tr>\n",
       "    <tr>\n",
       "      <th>PLN_microgrid</th>\n",
       "      <td>0.134622</td>\n",
       "      <td>0.020000</td>\n",
       "      <td>0.007790</td>\n",
       "      <td>0.006050</td>\n",
       "      <td>0.016471</td>\n",
       "      <td>0.294412</td>\n",
       "      <td>PLN_microgrid</td>\n",
       "    </tr>\n",
       "    <tr>\n",
       "      <th>community_microgrid</th>\n",
       "      <td>0.148995</td>\n",
       "      <td>0.000000</td>\n",
       "      <td>0.013915</td>\n",
       "      <td>0.008598</td>\n",
       "      <td>0.100000</td>\n",
       "      <td>0.205291</td>\n",
       "      <td>community_microgrid</td>\n",
       "    </tr>\n",
       "    <tr>\n",
       "      <th>no_access</th>\n",
       "      <td>0.083167</td>\n",
       "      <td>0.003812</td>\n",
       "      <td>0.013377</td>\n",
       "      <td>0.009992</td>\n",
       "      <td>0.020821</td>\n",
       "      <td>0.137055</td>\n",
       "      <td>no_access</td>\n",
       "    </tr>\n",
       "  </tbody>\n",
       "</table>\n",
       "</div>"
      ],
      "text/plain": [
       "                     daily_TV_energy  daily_fridge_energy  daily_radio_energy  \\\n",
       "access_type                                                                     \n",
       "PLN_grid                    0.249333             0.696700            0.008495   \n",
       "PLN_microgrid               0.134622             0.020000            0.007790   \n",
       "community_microgrid         0.148995             0.000000            0.013915   \n",
       "no_access                   0.083167             0.003812            0.013377   \n",
       "\n",
       "                     daily_fan_energy  daily_rice_cooker_energy  \\\n",
       "access_type                                                       \n",
       "PLN_grid                     0.053808                  1.207835   \n",
       "PLN_microgrid                0.006050                  0.016471   \n",
       "community_microgrid          0.008598                  0.100000   \n",
       "no_access                    0.009992                  0.020821   \n",
       "\n",
       "                     daily_lighting_energy          access_type  \n",
       "access_type                                                      \n",
       "PLN_grid                          0.522756             PLN_grid  \n",
       "PLN_microgrid                     0.294412        PLN_microgrid  \n",
       "community_microgrid               0.205291  community_microgrid  \n",
       "no_access                         0.137055            no_access  "
      ]
     },
     "execution_count": 15,
     "metadata": {},
     "output_type": "execute_result"
    }
   ],
   "source": [
    "# am I having the index label problem here?\n",
    "aggregated_energy_data = energy_data.fillna(0).groupby('access_type').mean()\n",
    "aggregated_energy_data['access_type'] = aggregated_energy_data.index\n",
    "aggregated_energy_data"
   ]
  },
  {
   "cell_type": "code",
   "execution_count": 16,
   "metadata": {
    "collapsed": false
   },
   "outputs": [
    {
     "data": {
      "image/png": "[encoded data removed]",
      "text/plain": [
       "<matplotlib.figure.Figure at 0x10fd57828>"
      ]
     },
     "metadata": {},
     "output_type": "display_data"
    }
   ],
   "source": [
    "energy_columns = ['daily_TV_energy', \n",
    "           'daily_fridge_energy', \n",
    "           'daily_radio_energy', \n",
    "           'daily_fan_energy', \n",
    "           'daily_rice_cooker_energy', \n",
    "           'daily_lighting_energy']\n",
    "tidy_energy_data = pd.melt(aggregated_energy_data, \n",
    "                           id_vars='access_type', \n",
    "                           value_vars=energy_columns)\n",
    "sns.barplot(data=tidy_energy_data, x='access_type', hue='variable', y='value')\n",
    "plt.savefig('energy-by-end-use.png')"
   ]
  },
  {
   "cell_type": "code",
   "execution_count": null,
   "metadata": {
    "collapsed": true
   },
   "outputs": [],
   "source": []
  }
 ],
 "metadata": {
  "kernelspec": {
   "display_name": "Python 3",
   "language": "python",
   "name": "python3"
  },
  "language_info": {
   "codemirror_mode": {
    "name": "ipython",
    "version": 3
   },
   "file_extension": ".py",
   "mimetype": "text/x-python",
   "name": "python",
   "nbconvert_exporter": "python",
   "pygments_lexer": "ipython3",
   "version": "3.4.4"
  }
 },
 "nbformat": 4,
 "nbformat_minor": 0
}
